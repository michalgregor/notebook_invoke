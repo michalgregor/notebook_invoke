{
 "cells": [
  {
   "cell_type": "code",
   "execution_count": 14,
   "metadata": {},
   "outputs": [],
   "source": [
    "from notebook_invoke.invoke_js import InvokeJsContext, exec_js\n",
    "from IPython.display import display, HTML"
   ]
  },
  {
   "cell_type": "markdown",
   "metadata": {},
   "source": [
    "# Invoking Javascript Functions from Python\n",
    "\n",
    "The ``notebook_invoke`` package provides several interfaces, which allow the invocation of Javascript functions from Python: either waiting for the return value or not.\n",
    "\n",
    "## Not Capturing the Return Value\n",
    "\n",
    "The simplest way to invoke a javascript function – without capturing the return value – can be done using ``exec_js``:"
   ]
  },
  {
   "cell_type": "code",
   "execution_count": 2,
   "metadata": {},
   "outputs": [
    {
     "data": {
      "text/html": [
       "\n",
       "<div id=\"foo_test\"></div>\n",
       "\n",
       "<script>\n",
       "function foo(x) {\n",
       "    div = document.getElementById('foo_test');\n",
       "    div.innerHTML += 'foo executed: ' + x + '<br />';\n",
       "}\n",
       "</script>\n"
      ],
      "text/plain": [
       "<IPython.core.display.HTML object>"
      ]
     },
     "metadata": {},
     "output_type": "display_data"
    }
   ],
   "source": [
    "display(HTML(\"\"\"\n",
    "<div id=\"foo_test\"></div>\n",
    "\n",
    "<script>\n",
    "function foo(x) {\n",
    "    div = document.getElementById('foo_test');\n",
    "    div.innerHTML += 'foo executed: ' + x + '<br />';\n",
    "}\n",
    "</script>\n",
    "\"\"\"))\n",
    "\n",
    "exec_js('foo(5)')\n",
    "exec_js('foo', [5])"
   ]
  },
  {
   "cell_type": "markdown",
   "metadata": {},
   "source": [
    "## Waiting for the Return Value\n",
    "\n",
    "To actually synchronously wait for the return value, one needs to create an InvokeJsContext and invoke functions through it using ``eval_js_expr`` and ``invoke_js_func``. Also, the invoke context needs to cover the entire remainder of the cell."
   ]
  },
  {
   "cell_type": "code",
   "execution_count": 6,
   "metadata": {},
   "outputs": [
    {
     "data": {
      "text/html": [
       "\n",
       "<script>\n",
       "var val = 15;\n",
       "\n",
       "function add(x, y) {\n",
       "    return x + y;\n",
       "}\n",
       "</script>\n"
      ],
      "text/plain": [
       "<IPython.core.display.HTML object>"
      ]
     },
     "metadata": {},
     "output_type": "display_data"
    },
    {
     "data": {
      "application/javascript": [
       "\n",
       "    const self = this;\n",
       "\n",
       "    function _get_callbacks() {\n",
       "        var cell_element = self.element.parents('.cell');\n",
       "        var cell_idx = Jupyter.notebook.get_cell_elements().index(cell_element);\n",
       "        var cell = Jupyter.notebook.get_cell(cell_idx);\n",
       "        return cell.get_callbacks();\n",
       "    }\n",
       "\n",
       "    function _copy_callbacks() {\n",
       "        const callbacks = _get_callbacks(self.element);\n",
       "        var cbcopy = {};\n",
       "        \n",
       "        // copy all\n",
       "        for(var key in callbacks) {cbcopy[key] = callbacks[key];}\n",
       "        const iopub_callbacks = callbacks['iopub'];\n",
       "        var iopub_cbcopy = cbcopy['iopub'] = {};\n",
       "        for(var key in iopub_callbacks) {iopub_cbcopy[key] = iopub_callbacks[key];}\n",
       "        \n",
       "        return cbcopy;\n",
       "    }\n",
       "\n",
       "    // if make_handle_output is not null, code must return a value\n",
       "    function _run_code(code, make_handle_output=null) {\n",
       "        if(make_handle_output !== null) {\n",
       "            var callbacks = _copy_callbacks();\n",
       "            const handle_output = make_handle_output(callbacks['iopub']['output']);\n",
       "            callbacks['iopub']['output'] = handle_output;\n",
       "        } else {\n",
       "            const callbacks = _get_callbacks();\n",
       "        }\n",
       "\n",
       "        Jupyter.notebook.kernel.execute(\n",
       "            code, callbacks, {silent:false, store_history: false,\n",
       "            stop_on_error: true, ignore_capture: true}\n",
       "        );\n",
       "    }\n",
       "\n",
       "    function make_handle_output(base_handle_output, resolve=null, reject=null) {\n",
       "        var returned_once = false;\n",
       "\n",
       "        function handle_output(msg) {                    \n",
       "            if(!returned_once && msg.msg_type == \"execute_result\") {\n",
       "                returned_once = true;\n",
       "                var output = msg.content.data[\"text/plain\"];\n",
       "                output = output.substring(1, output.length-1).replace(\"\\\\'\",\"'\");\n",
       "                var data = JSON.parse(output);\n",
       "                if(resolve !== null) resolve(data);\n",
       "            } else if(!returned_once && msg.msg_type == \"error\") {\n",
       "                if(reject !== null) reject(msg);\n",
       "                return base_handle_output(msg);\n",
       "            } else {\n",
       "                return base_handle_output(msg);\n",
       "            }\n",
       "        }\n",
       "\n",
       "        return handle_output;\n",
       "    }\n",
       "\n",
       "    var _init_promise = new Promise((resolve, reject) => {\n",
       "        _run_code(\n",
       "            `from notebook_invoke import invoke_wrapper as _jupyter_invoke_wrapper; (lambda: 'true')()`,\n",
       "            base_handle_output => {\n",
       "                return make_handle_output(base_handle_output, resolve, reject);\n",
       "            }\n",
       "        );\n",
       "    });\n",
       "\n",
       "    function invoke_function(func, args, kwargs, execute_after=null) {\n",
       "        if(execute_after === null) execute_after = _init_promise;\n",
       "\n",
       "        return new Promise((resolve, reject) => {\n",
       "            execute_after.then(run_args => {\n",
       "                _run_code(\n",
       "                    `_jupyter_invoke_wrapper('${func}', '${JSON.stringify(args)}', '${JSON.stringify(kwargs)}')`,\n",
       "                    base_handle_output => {\n",
       "                        return make_handle_output(base_handle_output, resolve, reject);\n",
       "                    }\n",
       "                );\n",
       "            });\n",
       "        });\n",
       "    }\n",
       "    \n",
       "                const ret = add(JSON.parse('2'), JSON.parse('3'));\n",
       "                invoke_function('_invoke_submit_results_6a8c691d4b5d11eb80859405bb181b5f', [ret], {});\n",
       "                "
      ],
      "text/plain": [
       "<IPython.core.display.Javascript object>"
      ]
     },
     "metadata": {},
     "output_type": "display_data"
    },
    {
     "name": "stdout",
     "output_type": "stream",
     "text": [
      "val = 15\n",
      "sum = 5\n"
     ]
    }
   ],
   "source": [
    "display(HTML(\"\"\"\n",
    "<script>\n",
    "var val = 15;\n",
    "\n",
    "function add(x, y) {\n",
    "    return x + y;\n",
    "}\n",
    "</script>\n",
    "\"\"\"))\n",
    "\n",
    "with InvokeJsContext() as ctx:\n",
    "    val = ctx.eval_js_expr('val')\n",
    "    print('val =', val)\n",
    "    \n",
    "    s = ctx.invoke_js_func('add', [2, 3])\n",
    "    print('sum =', s)"
   ]
  },
  {
   "cell_type": "markdown",
   "metadata": {},
   "source": [
    "To make things a bit easier, ``notebook_invoke`` also provides cell magic ``%%make_invoke_context`` that accomplishes the same as ``InvokeJsContext``: "
   ]
  },
  {
   "cell_type": "code",
   "execution_count": 16,
   "metadata": {},
   "outputs": [
    {
     "data": {
      "application/javascript": [
       "\n",
       "    const self = this;\n",
       "\n",
       "    function _get_callbacks() {\n",
       "        var cell_element = self.element.parents('.cell');\n",
       "        var cell_idx = Jupyter.notebook.get_cell_elements().index(cell_element);\n",
       "        var cell = Jupyter.notebook.get_cell(cell_idx);\n",
       "        return cell.get_callbacks();\n",
       "    }\n",
       "\n",
       "    function _copy_callbacks() {\n",
       "        const callbacks = _get_callbacks(self.element);\n",
       "        var cbcopy = {};\n",
       "        \n",
       "        // copy all\n",
       "        for(var key in callbacks) {cbcopy[key] = callbacks[key];}\n",
       "        const iopub_callbacks = callbacks['iopub'];\n",
       "        var iopub_cbcopy = cbcopy['iopub'] = {};\n",
       "        for(var key in iopub_callbacks) {iopub_cbcopy[key] = iopub_callbacks[key];}\n",
       "        \n",
       "        return cbcopy;\n",
       "    }\n",
       "\n",
       "    // if make_handle_output is not null, code must return a value\n",
       "    function _run_code(code, make_handle_output=null) {\n",
       "        if(make_handle_output !== null) {\n",
       "            var callbacks = _copy_callbacks();\n",
       "            const handle_output = make_handle_output(callbacks['iopub']['output']);\n",
       "            callbacks['iopub']['output'] = handle_output;\n",
       "        } else {\n",
       "            const callbacks = _get_callbacks();\n",
       "        }\n",
       "\n",
       "        Jupyter.notebook.kernel.execute(\n",
       "            code, callbacks, {silent:false, store_history: false,\n",
       "            stop_on_error: true, ignore_capture: true}\n",
       "        );\n",
       "    }\n",
       "\n",
       "    function make_handle_output(base_handle_output, resolve=null, reject=null) {\n",
       "        var returned_once = false;\n",
       "\n",
       "        function handle_output(msg) {                    \n",
       "            if(!returned_once && msg.msg_type == \"execute_result\") {\n",
       "                returned_once = true;\n",
       "                var output = msg.content.data[\"text/plain\"];\n",
       "                output = output.substring(1, output.length-1).replace(\"\\\\'\",\"'\");\n",
       "                var data = JSON.parse(output);\n",
       "                if(resolve !== null) resolve(data);\n",
       "            } else if(!returned_once && msg.msg_type == \"error\") {\n",
       "                if(reject !== null) reject(msg);\n",
       "                return base_handle_output(msg);\n",
       "            } else {\n",
       "                return base_handle_output(msg);\n",
       "            }\n",
       "        }\n",
       "\n",
       "        return handle_output;\n",
       "    }\n",
       "\n",
       "    var _init_promise = new Promise((resolve, reject) => {\n",
       "        _run_code(\n",
       "            `from notebook_invoke import invoke_wrapper as _jupyter_invoke_wrapper; (lambda: 'true')()`,\n",
       "            base_handle_output => {\n",
       "                return make_handle_output(base_handle_output, resolve, reject);\n",
       "            }\n",
       "        );\n",
       "    });\n",
       "\n",
       "    function invoke_function(func, args, kwargs, execute_after=null) {\n",
       "        if(execute_after === null) execute_after = _init_promise;\n",
       "\n",
       "        return new Promise((resolve, reject) => {\n",
       "            execute_after.then(run_args => {\n",
       "                _run_code(\n",
       "                    `_jupyter_invoke_wrapper('${func}', '${JSON.stringify(args)}', '${JSON.stringify(kwargs)}')`,\n",
       "                    base_handle_output => {\n",
       "                        return make_handle_output(base_handle_output, resolve, reject);\n",
       "                    }\n",
       "                );\n",
       "            });\n",
       "        });\n",
       "    }\n",
       "    \n",
       "                const ret = add(JSON.parse('2'), JSON.parse('3'));\n",
       "                invoke_function('_invoke_submit_results_bec7c6514b5d11ebaa519405bb181b5f', [ret], {});\n",
       "                "
      ],
      "text/plain": [
       "<IPython.core.display.Javascript object>"
      ]
     },
     "metadata": {},
     "output_type": "display_data"
    },
    {
     "data": {
      "text/html": [
       "\n",
       "<script>\n",
       "var val = 15;\n",
       "\n",
       "function add(x, y) {\n",
       "    return x + y;\n",
       "}\n",
       "</script>\n"
      ],
      "text/plain": [
       "<IPython.core.display.HTML object>"
      ]
     },
     "metadata": {},
     "output_type": "display_data"
    },
    {
     "name": "stdout",
     "output_type": "stream",
     "text": [
      "val = 15\n",
      "sum = 5\n"
     ]
    }
   ],
   "source": [
    "%%make_invoke_context as ctx\n",
    "display(HTML(\"\"\"\n",
    "<script>\n",
    "var val = 15;\n",
    "\n",
    "function add(x, y) {\n",
    "    return x + y;\n",
    "}\n",
    "</script>\n",
    "\"\"\"))\n",
    "\n",
    "val = ctx.eval_js_expr('val')\n",
    "print('val =', val)\n",
    "\n",
    "s = ctx.invoke_js_func('add', [2, 3])\n",
    "print('sum =', s)"
   ]
  },
  {
   "cell_type": "code",
   "execution_count": null,
   "metadata": {},
   "outputs": [],
   "source": []
  }
 ],
 "metadata": {
  "kernelspec": {
   "display_name": "Python 3",
   "language": "python",
   "name": "python3"
  },
  "language_info": {
   "codemirror_mode": {
    "name": "ipython",
    "version": 3
   },
   "file_extension": ".py",
   "mimetype": "text/x-python",
   "name": "python",
   "nbconvert_exporter": "python",
   "pygments_lexer": "ipython3",
   "version": "3.8.3"
  }
 },
 "nbformat": 4,
 "nbformat_minor": 4
}
