{
 "cells": [
  {
   "cell_type": "code",
   "execution_count": 2,
   "metadata": {},
   "outputs": [],
   "source": [
    "from notebook_invoke import jupyter_javascript_routines, register_callback\n",
    "from IPython.display import display, Javascript"
   ]
  },
  {
   "cell_type": "markdown",
   "metadata": {},
   "source": [
    "# Invoking Python Functions from Javascript\n",
    "\n",
    "We define a Python function and register it using ``register_callback``:"
   ]
  },
  {
   "cell_type": "code",
   "execution_count": 24,
   "metadata": {},
   "outputs": [],
   "source": [
    "def add(x, y):\n",
    "    return x + y"
   ]
  },
  {
   "cell_type": "code",
   "execution_count": 25,
   "metadata": {},
   "outputs": [],
   "source": [
    "register_callback(\"add\", add)"
   ]
  },
  {
   "cell_type": "markdown",
   "metadata": {},
   "source": [
    "We can then call it from Javascript using ``invoke_function(func, args, kwargs)``. In order to get access to ``invoke_function``, we need to prepend ``jupyter_javascript_routines`` to our actual Javascript code."
   ]
  },
  {
   "cell_type": "code",
   "execution_count": 26,
   "metadata": {},
   "outputs": [
    {
     "data": {
      "application/javascript": [
       "\n",
       "    const self = this;\n",
       "\n",
       "    function _get_callbacks() {\n",
       "        var cell_element = self.element.parents('.cell');\n",
       "        var cell_idx = Jupyter.notebook.get_cell_elements().index(cell_element);\n",
       "        var cell = Jupyter.notebook.get_cell(cell_idx);\n",
       "        return cell.get_callbacks();\n",
       "    }\n",
       "\n",
       "    function _copy_callbacks() {\n",
       "        const callbacks = _get_callbacks(self.element);\n",
       "        var cbcopy = {};\n",
       "        \n",
       "        // copy all\n",
       "        for(var key in callbacks) {cbcopy[key] = callbacks[key];}\n",
       "        const iopub_callbacks = callbacks['iopub'];\n",
       "        var iopub_cbcopy = cbcopy['iopub'] = {};\n",
       "        for(var key in iopub_callbacks) {iopub_cbcopy[key] = iopub_callbacks[key];}\n",
       "        \n",
       "        return cbcopy;\n",
       "    }\n",
       "\n",
       "    // if make_handle_output is not null, code must return a value\n",
       "    function _run_code(code, make_handle_output=null) {\n",
       "        if(make_handle_output !== null) {\n",
       "            var callbacks = _copy_callbacks();\n",
       "            const handle_output = make_handle_output(callbacks['iopub']['output']);\n",
       "            callbacks['iopub']['output'] = handle_output;\n",
       "        } else {\n",
       "            const callbacks = _get_callbacks();\n",
       "        }\n",
       "\n",
       "        Jupyter.notebook.kernel.execute(\n",
       "            code, callbacks, {silent:false, store_history: false,\n",
       "            stop_on_error: true, ignore_capture: true}\n",
       "        );\n",
       "    }\n",
       "\n",
       "    function make_handle_output(base_handle_output, resolve=null, reject=null) {\n",
       "        var returned_once = false;\n",
       "\n",
       "        function handle_output(msg) {                    \n",
       "            if(!returned_once && msg.msg_type == \"execute_result\") {\n",
       "                returned_once = true;\n",
       "                var output = msg.content.data[\"text/plain\"];\n",
       "                output = output.substring(1, output.length-1).replace(\"\\\\'\",\"'\");\n",
       "                var data = JSON.parse(output);\n",
       "                if(resolve !== null) resolve(data);\n",
       "            } else if(!returned_once && msg.msg_type == \"error\") {\n",
       "                if(reject !== null) reject(msg);\n",
       "                return base_handle_output(msg);\n",
       "            } else {\n",
       "                return base_handle_output(msg);\n",
       "            }\n",
       "        }\n",
       "\n",
       "        return handle_output;\n",
       "    }\n",
       "\n",
       "    var _init_promise = new Promise((resolve, reject) => {\n",
       "        _run_code(\n",
       "            `from notebook_invoke import invoke_wrapper as _jupyter_invoke_wrapper; (lambda: 'true')()`,\n",
       "            base_handle_output => {\n",
       "                return make_handle_output(base_handle_output, resolve, reject);\n",
       "            }\n",
       "        );\n",
       "    });\n",
       "\n",
       "    function invoke_function(func, args, kwargs, execute_after=null) {\n",
       "        if(execute_after === null) execute_after = _init_promise;\n",
       "\n",
       "        return new Promise((resolve, reject) => {\n",
       "            execute_after.then(run_args => {\n",
       "                _run_code(\n",
       "                    `_jupyter_invoke_wrapper('${func}', '${JSON.stringify(args)}', '${JSON.stringify(kwargs)}')`,\n",
       "                    base_handle_output => {\n",
       "                        return make_handle_output(base_handle_output, resolve, reject);\n",
       "                    }\n",
       "                );\n",
       "            });\n",
       "        });\n",
       "    }\n",
       "    \n",
       "// the invoke returns a promise\n",
       "var promise = invoke_function('add', [2], {'y': 3});\n",
       "\n",
       "// once the promise is resolved, we\n",
       "// can display the returned value\n",
       "promise.then(ret => {\n",
       "    element.append(ret);\n",
       "});\n"
      ],
      "text/plain": [
       "<IPython.core.display.Javascript object>"
      ]
     },
     "metadata": {},
     "output_type": "display_data"
    }
   ],
   "source": [
    "display(Javascript(jupyter_javascript_routines + \"\"\"\n",
    "\n",
    "// the invoke returns a promise\n",
    "var promise = invoke_function('add', [2], {'y': 3});\n",
    "\n",
    "// once the promise is resolved, display the returned value\n",
    "promise.then(ret => {\n",
    "    element.append(ret);\n",
    "});\n",
    "\n",
    "\"\"\"))"
   ]
  },
  {
   "cell_type": "code",
   "execution_count": null,
   "metadata": {},
   "outputs": [],
   "source": []
  }
 ],
 "metadata": {
  "kernelspec": {
   "display_name": "Python 3",
   "language": "python",
   "name": "python3"
  },
  "language_info": {
   "codemirror_mode": {
    "name": "ipython",
    "version": 3
   },
   "file_extension": ".py",
   "mimetype": "text/x-python",
   "name": "python",
   "nbconvert_exporter": "python",
   "pygments_lexer": "ipython3",
   "version": "3.8.3"
  }
 },
 "nbformat": 4,
 "nbformat_minor": 4
}
